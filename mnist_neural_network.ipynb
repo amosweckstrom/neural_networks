{
  "nbformat": 4,
  "nbformat_minor": 0,
  "metadata": {
    "colab": {
      "provenance": [],
      "authorship_tag": "ABX9TyO7nniMeGgurgFGYKTeNLE+",
      "include_colab_link": true
    },
    "kernelspec": {
      "name": "python3",
      "display_name": "Python 3"
    },
    "language_info": {
      "name": "python"
    }
  },
  "cells": [
    {
      "cell_type": "markdown",
      "metadata": {
        "id": "view-in-github",
        "colab_type": "text"
      },
      "source": [
        "<a href=\"https://colab.research.google.com/github/amosweckstrom/neural_networks/blob/main/mnist_neural_network.ipynb\" target=\"_parent\"><img src=\"https://colab.research.google.com/assets/colab-badge.svg\" alt=\"Open In Colab\"/></a>"
      ]
    },
    {
      "cell_type": "markdown",
      "source": [
        "# Training a Neural Network to predict if an handwritten character is a 0 or a 1\n",
        "\n",
        "## Decription:\n",
        "\n",
        " Dataset:\n",
        " - The classic mnist dataset is used. But all the handwritten characters  except for the 0s and 1s are removed\n",
        " - We have two datasets, the mnist_test.csv and the mnist_train_small.csv\n",
        "\n",
        "\n",
        "\n",
        " Neural Network:\n",
        "\n",
        " - I used the logistic regression as the activation functions for the units/neurons which uses a sigmoid function to map predictions between 0 and 1\n",
        "\n",
        " - To calculate the loss for binary values we use the BinaryCrossEntropy loss function\n",
        "\n",
        " - I created 3 layers for the network\n",
        "   \n",
        "   Layer 1: 25 neurons\\\n",
        "   Layer 2: 15 neurons\\\n",
        "   Layer 3 (Output Layer): 1 neuron\n",
        "\n",
        "\n"
      ],
      "metadata": {
        "id": "6d1v4RIK6Ot9"
      }
    },
    {
      "cell_type": "code",
      "execution_count": 243,
      "metadata": {
        "id": "jKKOkk9_Y-21"
      },
      "outputs": [],
      "source": [
        "#Import necessary libraries\n",
        "\n",
        "import tensorflow as tf\n",
        "import pandas as pd\n",
        "import numpy as np\n",
        "from tensorflow.keras.losses import BinaryCrossentropy\n",
        "from tensorflow.keras import Sequential\n",
        "from tensorflow.keras.layers import Dense"
      ]
    },
    {
      "cell_type": "code",
      "source": [
        "#Import data\n",
        "df = pd.read_csv(\"./sample_data/mnist_train_small.csv\")\n",
        "df_test = pd.read_csv(\"./sample_data/mnist_test.csv\")"
      ],
      "metadata": {
        "id": "mN3yJ5xvZhnn"
      },
      "execution_count": 244,
      "outputs": []
    },
    {
      "cell_type": "markdown",
      "source": [
        "## Training Data"
      ],
      "metadata": {
        "id": "1pNdKfgSBPcT"
      }
    },
    {
      "cell_type": "code",
      "source": [
        "#Inspect the training data\n",
        "print(\"Data dimensions:\", df.shape)\n",
        "print(\"Data type:\", type(df))"
      ],
      "metadata": {
        "colab": {
          "base_uri": "https://localhost:8080/"
        },
        "id": "B4GJmCWTcwch",
        "outputId": "2a25b74b-5d74-4ee0-f642-d98f7ebd906e"
      },
      "execution_count": 245,
      "outputs": [
        {
          "output_type": "stream",
          "name": "stdout",
          "text": [
            "Data dimensions: (19999, 785)\n",
            "Data type: <class 'pandas.core.frame.DataFrame'>\n"
          ]
        }
      ]
    },
    {
      "cell_type": "code",
      "source": [
        "#Create a new dataframe where only the handwritten 0s and 1s are\n",
        "df_1_0 = df[(df[\"6\"] == 1) | (df[\"6\"] == 0)]\n",
        "\n",
        "#Create training data by dropping the target data column\n",
        "X_train = df_1_0.drop(\"6\", axis=1)\n",
        "X_train = np.array(X_train)\n",
        "\n",
        "#Create target data\n",
        "y_train = df_1_0[\"6\"]\n",
        "y_train = np.array(y_train)\n",
        "\n",
        "print(\n",
        "    \"Dimensions of the training data:\", X_train.shape,\n",
        "    \"\\nData type:\", type(y_train)\n",
        "\n",
        "    )\n",
        "print(\n",
        "    \"Dimensions of the target data:\", y_train.shape ,\n",
        "    \"\\nData type:\", type(y_train)\n",
        "\n",
        "    )"
      ],
      "metadata": {
        "colab": {
          "base_uri": "https://localhost:8080/"
        },
        "id": "52lE6ypfbTwP",
        "outputId": "81831d3b-af50-4520-d354-b2fe57100acc"
      },
      "execution_count": 246,
      "outputs": [
        {
          "output_type": "stream",
          "name": "stdout",
          "text": [
            "Dimensions of the training data: (4205, 784) \n",
            "Data type: <class 'numpy.ndarray'>\n",
            "Dimensions of the target data: (4205,) \n",
            "Data type: <class 'numpy.ndarray'>\n"
          ]
        }
      ]
    },
    {
      "cell_type": "markdown",
      "source": [
        "## Test Data"
      ],
      "metadata": {
        "id": "iid_0B-cA21T"
      }
    },
    {
      "cell_type": "code",
      "source": [
        "#Inspect the test data\n",
        "print(\"Data dimensions:\", df_test.shape)\n",
        "print(\"Data type:\", type(df_test))\n"
      ],
      "metadata": {
        "colab": {
          "base_uri": "https://localhost:8080/"
        },
        "id": "P9JIxJzsA4_u",
        "outputId": "5b042c30-0804-488d-d9b4-f02d988f0053"
      },
      "execution_count": 247,
      "outputs": [
        {
          "output_type": "stream",
          "name": "stdout",
          "text": [
            "Data dimensions: (9999, 785)\n",
            "Data type: <class 'pandas.core.frame.DataFrame'>\n"
          ]
        }
      ]
    },
    {
      "cell_type": "code",
      "source": [
        "df_test_1_0 = df_test[(df_test[\"7\"] == 1) | (df_test[\"7\"] == 0)]\n",
        "\n",
        "X_test = df_test_1_0.drop(\"7\", axis=1)\n",
        "X_test = np.array(X_test)\n",
        "\n",
        "\n",
        "y_test = df_test_1_0[\"7\"]\n",
        "y_test = np.array(y_test)\n",
        "\n",
        "print(\n",
        "    \"Dimensions of the test feature data:\", X_train.shape,\n",
        "    \"\\nData type:\", type(y_train)\n",
        "\n",
        "    )\n",
        "print(\n",
        "    \"Dimensions of the test target data:\", y_train.shape ,\n",
        "    \"\\nData type:\", type(y_train)\n",
        "\n",
        "    )\n",
        "\n"
      ],
      "metadata": {
        "colab": {
          "base_uri": "https://localhost:8080/"
        },
        "id": "20QvvEnoBbEL",
        "outputId": "a0461b45-b26f-433b-9927-f1ec1aed5277"
      },
      "execution_count": 248,
      "outputs": [
        {
          "output_type": "stream",
          "name": "stdout",
          "text": [
            "Dimensions of the test feature data: (4205, 784) \n",
            "Data type: <class 'numpy.ndarray'>\n",
            "Dimensions of the test target data: (4205,) \n",
            "Data type: <class 'numpy.ndarray'>\n"
          ]
        }
      ]
    },
    {
      "cell_type": "markdown",
      "source": [
        "# Neural Network initialization and training"
      ],
      "metadata": {
        "id": "XlwniczyGxQ8"
      }
    },
    {
      "cell_type": "code",
      "source": [
        "#Initialize a Sequential Neural network with sigmoid activation function\n",
        "\n",
        "model = Sequential([\n",
        "    Dense(5, activation=\"sigmoid\"),\n",
        "    Dense(3, activation=\"sigmoid\"),\n",
        "    Dense(1, activation=\"sigmoid\")\n",
        "\n",
        "])\n",
        "\n",
        "#Set model loss function to BinaryCrossEntropy to get the errors of binary predictions and targets\n",
        "model.compile(loss=BinaryCrossentropy())"
      ],
      "metadata": {
        "id": "ISL_S-akbkAK"
      },
      "execution_count": 249,
      "outputs": []
    },
    {
      "cell_type": "code",
      "source": [
        "#Train the neural network\n",
        "\n",
        "model.fit(X_train, y_train, epochs=10)"
      ],
      "metadata": {
        "colab": {
          "base_uri": "https://localhost:8080/"
        },
        "id": "tpLKvt36ccLX",
        "outputId": "01066b81-960f-4786-9f90-117813ef2241"
      },
      "execution_count": 250,
      "outputs": [
        {
          "output_type": "stream",
          "name": "stdout",
          "text": [
            "Epoch 1/10\n",
            "132/132 [==============================] - 1s 2ms/step - loss: 0.7147\n",
            "Epoch 2/10\n",
            "132/132 [==============================] - 0s 3ms/step - loss: 0.6207\n",
            "Epoch 3/10\n",
            "132/132 [==============================] - 0s 3ms/step - loss: 0.5453\n",
            "Epoch 4/10\n",
            "132/132 [==============================] - 1s 4ms/step - loss: 0.4797\n",
            "Epoch 5/10\n",
            "132/132 [==============================] - 1s 4ms/step - loss: 0.4213\n",
            "Epoch 6/10\n",
            "132/132 [==============================] - 0s 4ms/step - loss: 0.3647\n",
            "Epoch 7/10\n",
            "132/132 [==============================] - 0s 4ms/step - loss: 0.3102\n",
            "Epoch 8/10\n",
            "132/132 [==============================] - 1s 4ms/step - loss: 0.2601\n",
            "Epoch 9/10\n",
            "132/132 [==============================] - 1s 4ms/step - loss: 0.2156\n",
            "Epoch 10/10\n",
            "132/132 [==============================] - 1s 4ms/step - loss: 0.1774\n"
          ]
        },
        {
          "output_type": "execute_result",
          "data": {
            "text/plain": [
              "<keras.src.callbacks.History at 0x7fb6451a1ba0>"
            ]
          },
          "metadata": {},
          "execution_count": 250
        }
      ]
    },
    {
      "cell_type": "markdown",
      "source": [
        "#Predictions"
      ],
      "metadata": {
        "id": "89rolRmZG100"
      }
    },
    {
      "cell_type": "code",
      "source": [
        "#Make predictions on the test data\n",
        "pred = model.predict(X_test)\n",
        "\n",
        "#Apply a threshhold of 0.5 so that the predictions are binary\n",
        "predictions = (pred >= 0.5).astype(int).flatten()\n",
        "\n",
        "print(\n",
        "    \"\\n\"\n",
        "    \"Predictions:\", predictions,\n",
        "    \"\\nDimensions of the predictions array:\", predictions.shape\n",
        ")\n",
        "\n",
        "print(\n",
        "    \"\\n\",\n",
        "    \"Target values:\", y_test,\n",
        "    \"\\nDimensions of the target values\", y_test.shape\n",
        ")\n",
        "\n",
        "print(\"\\nLooks good!!\")"
      ],
      "metadata": {
        "colab": {
          "base_uri": "https://localhost:8080/"
        },
        "id": "UXkZ_r36yvzh",
        "outputId": "b11092cc-26f2-4232-8777-c6d57ab9f0bc"
      },
      "execution_count": 251,
      "outputs": [
        {
          "output_type": "stream",
          "name": "stdout",
          "text": [
            "67/67 [==============================] - 0s 2ms/step\n",
            "\n",
            "Predictions: [1 0 1 ... 1 0 1] \n",
            "Dimensions of the predictions array: (2115,)\n",
            "\n",
            " Target values: [1 0 1 ... 1 0 1] \n",
            "Dimensions of the target values (2115,)\n",
            "\n",
            "Looks good!!\n"
          ]
        }
      ]
    },
    {
      "cell_type": "code",
      "source": [
        "#Define a function that calculates the accuracy of our predictions\n",
        "\n",
        "def calculate_accuracy(predictions, actuals):\n",
        "\n",
        "    predicitons = list(predictions)\n",
        "    actuals = list(actuals)\n",
        "    # Check that the two lists are of the same length\n",
        "    if len(predictions) != len(actuals):\n",
        "        raise ValueError(\"The lengths of the prediction and actual lists must be the same.\")\n",
        "\n",
        "    # Count the number of correct predictions\n",
        "    correct_predictions = sum(pred == actual for pred, actual in zip(predictions, actuals))\n",
        "\n",
        "    # Calculate the accuracy\n",
        "    accuracy = correct_predictions / len(predictions)\n",
        "\n",
        "    return accuracy"
      ],
      "metadata": {
        "id": "4mnizA2O0wuU"
      },
      "execution_count": 252,
      "outputs": []
    },
    {
      "cell_type": "code",
      "source": [
        "print(\n",
        "    \"Model Accuracy:\",\n",
        "    calculate_accuracy(predictions, y_test)\n",
        "    )"
      ],
      "metadata": {
        "colab": {
          "base_uri": "https://localhost:8080/",
          "height": 232
        },
        "id": "FIV7mX1Q1gYQ",
        "outputId": "a5a12ec7-c6f5-488d-e099-574fe80d500b"
      },
      "execution_count": 1,
      "outputs": [
        {
          "output_type": "error",
          "ename": "NameError",
          "evalue": "name 'calculate_accuracy' is not defined",
          "traceback": [
            "\u001b[0;31m---------------------------------------------------------------------------\u001b[0m",
            "\u001b[0;31mNameError\u001b[0m                                 Traceback (most recent call last)",
            "\u001b[0;32m<ipython-input-1-5d1f5b74c198>\u001b[0m in \u001b[0;36m<cell line: 1>\u001b[0;34m()\u001b[0m\n\u001b[1;32m      1\u001b[0m print(\n\u001b[1;32m      2\u001b[0m     \u001b[0;34m\"Model Accuracy:\"\u001b[0m\u001b[0;34m,\u001b[0m\u001b[0;34m\u001b[0m\u001b[0;34m\u001b[0m\u001b[0m\n\u001b[0;32m----> 3\u001b[0;31m     \u001b[0mcalculate_accuracy\u001b[0m\u001b[0;34m(\u001b[0m\u001b[0mpredictions\u001b[0m\u001b[0;34m,\u001b[0m \u001b[0my_test\u001b[0m\u001b[0;34m)\u001b[0m\u001b[0;34m\u001b[0m\u001b[0;34m\u001b[0m\u001b[0m\n\u001b[0m\u001b[1;32m      4\u001b[0m     )\n",
            "\u001b[0;31mNameError\u001b[0m: name 'calculate_accuracy' is not defined"
          ]
        }
      ]
    },
    {
      "cell_type": "code",
      "source": [],
      "metadata": {
        "id": "Olnl58Zt1kC3"
      },
      "execution_count": 253,
      "outputs": []
    }
  ]
}